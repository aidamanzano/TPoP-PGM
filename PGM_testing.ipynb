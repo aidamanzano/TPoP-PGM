{
 "cells": [
  {
   "cell_type": "markdown",
   "metadata": {},
   "source": [
    "# Probabilistic Model\n"
   ]
  },
  {
   "cell_type": "code",
   "execution_count": 78,
   "metadata": {},
   "outputs": [],
   "source": [
    "import numpy as np"
   ]
  },
  {
   "cell_type": "code",
   "execution_count": 79,
   "metadata": {},
   "outputs": [],
   "source": [
    "p_honest = 0\n",
    "p_dishonest = 1 - p_honest\n",
    "\n",
    "p_coerced = 1\n",
    "p_not_coerced = 1 - p_coerced\n",
    "\n",
    "#there is a set of defined conditional probabilities for the true_position variable.\n",
    "#because these are either 0 or 1, I will add a 1 when that is the case, or not include the equation when its a 0."
   ]
  },
  {
   "cell_type": "code",
   "execution_count": 80,
   "metadata": {},
   "outputs": [],
   "source": [
    "\n",
    "a1 = p_dishonest * p_not_coerced * 1\n",
    "b1 = 0\n",
    "c1 = p_honest * p_not_coerced \n",
    "d1 = p_honest * p_coerced\n",
    "e1 = p_dishonest * p_coerced * 1\n",
    "f1 = 0"
   ]
  },
  {
   "cell_type": "code",
   "execution_count": 81,
   "metadata": {},
   "outputs": [],
   "source": [
    "starting_state = np.array([a1, b1, c1, d1, e1, f1])"
   ]
  },
  {
   "cell_type": "code",
   "execution_count": 82,
   "metadata": {},
   "outputs": [],
   "source": [
    "m11 = 0\n",
    "m12 = p_dishonest * p_not_coerced * 1 \n",
    "m13 = p_honest * p_not_coerced * 1\n",
    "m14 = p_honest * p_coerced * 1\n",
    "m15 = 0\n",
    "m16 = p_dishonest * p_coerced * 1\n",
    "\n",
    "m21 = 0\n",
    "m22 = 0\n",
    "m23 = 0\n",
    "m24 = 0\n",
    "m25 = 0\n",
    "m26 = 0\n",
    "\n",
    "m31 = 0\n",
    "m32 = p_dishonest * p_not_coerced * 1\n",
    "m33 = p_honest * p_not_coerced * 1\n",
    "m34 = p_honest * p_coerced * 1\n",
    "m35 = 0\n",
    "m36 = p_dishonest * p_coerced * 1\n",
    "\n",
    "m41 = p_dishonest * p_not_coerced * 1\n",
    "m42 = 0\n",
    "m43 = p_honest * p_not_coerced * 1\n",
    "m44 = p_honest * p_coerced * 1\n",
    "m45 = p_dishonest * p_coerced * 1\n",
    "m46 = 0\n",
    "\n",
    "m51 = p_dishonest * p_not_coerced * 1\n",
    "m52 = 0\n",
    "m53 = p_honest * p_not_coerced * 1\n",
    "m54 = p_honest * p_coerced * 1\n",
    "m55 = p_dishonest * p_coerced * 1\n",
    "m56 = 0\n",
    "\n",
    "m61 = 0\n",
    "m62 = 0\n",
    "m63 = 0\n",
    "m64 = 0\n",
    "m65 = 0\n",
    "m66 = 0"
   ]
  },
  {
   "cell_type": "code",
   "execution_count": 83,
   "metadata": {},
   "outputs": [],
   "source": [
    "#Probability of picking a certain child, given that you are a certain parent.\n",
    "M = np.array([[m11, m12, m13, m14, m15, m16],\n",
    "            [m21, m22, m23, m24, m25, m26],\n",
    "            [m31, m32, m33, m34, m35, m36],\n",
    "            [m41, m42, m43, m44, m45, m46],\n",
    "            [m51, m52, m53, m54, m55, m56],\n",
    "            [m61, m62, m63, m64, m65, m66]])"
   ]
  },
  {
   "cell_type": "code",
   "execution_count": 84,
   "metadata": {},
   "outputs": [],
   "source": [
    "#Child to parent approval matrix \n",
    "A = np.array([[0, 0, 0, 1, 0, 0],\n",
    "            [0, 0 , 0, 0, 0, 0],\n",
    "            [0, 0, 1, 1, 0, 0],\n",
    "            [1, 0, 1, 1, 1, 0],\n",
    "            [0, 0, 0, 1, 1, 0],\n",
    "            [0, 0, 0, 0, 0, 0]])\n",
    "\n",
    "#note that A is symmetric\n",
    "#print(A - np.transpose(A))"
   ]
  },
  {
   "cell_type": "code",
   "execution_count": 85,
   "metadata": {},
   "outputs": [],
   "source": [
    "assert A.size == M.size"
   ]
  },
  {
   "cell_type": "code",
   "execution_count": 86,
   "metadata": {},
   "outputs": [
    {
     "name": "stdout",
     "output_type": "stream",
     "text": [
      "[0. 0. 0. 0. 6. 0.]\n"
     ]
    }
   ],
   "source": [
    "import simulator_functions as sim\n",
    "\n",
    "total_edges = sim.edge_probabilities(starting_state, M, A, depth=1, number_of_neighbours=[6])\n",
    "print(total_edges)"
   ]
  },
  {
   "cell_type": "markdown",
   "metadata": {},
   "source": [
    "# For platoons"
   ]
  },
  {
   "cell_type": "code",
   "execution_count": 87,
   "metadata": {},
   "outputs": [],
   "source": [
    "#initial state can be only state A, D and E, and D is 0. Because we say a platoon is comandeered by a dishonest car. \n",
    "ap1 = p_dishonest * p_not_coerced * 1\n",
    "dp1 = 0\n",
    "ep1 = p_dishonest * p_coerced * 1\n",
    "\n",
    "platoon_initial_state = np.array([ap1, dp1, ep1])"
   ]
  },
  {
   "cell_type": "code",
   "execution_count": 88,
   "metadata": {},
   "outputs": [
    {
     "name": "stdout",
     "output_type": "stream",
     "text": [
      "3\n"
     ]
    }
   ],
   "source": [
    "print(len(platoon_initial_state))\n"
   ]
  },
  {
   "cell_type": "code",
   "execution_count": 89,
   "metadata": {},
   "outputs": [],
   "source": [
    "#Platoon Matrix Mp\n",
    "\n",
    "mp11 = 0\n",
    "mp12 = p_honest * p_coerced * 1\n",
    "mp13 = 0\n",
    "\n",
    "mp21 = p_dishonest * p_not_coerced * 1\n",
    "mp22 = p_honest * p_coerced * 1\n",
    "mp23 = p_dishonest * p_coerced * 1\n",
    "\n",
    "mp31 = p_dishonest * p_not_coerced * 1\n",
    "mp32 = p_honest * p_coerced * 1\n",
    "mp33 = p_dishonest * p_coerced * 1"
   ]
  },
  {
   "cell_type": "code",
   "execution_count": 90,
   "metadata": {},
   "outputs": [],
   "source": [
    "Mp = np.array([[mp11, mp12, mp13],\n",
    "                [mp21, mp22, mp23], \n",
    "                [mp31, mp32, mp33]])"
   ]
  },
  {
   "cell_type": "code",
   "execution_count": 91,
   "metadata": {},
   "outputs": [],
   "source": [
    "#Approvals Matrix of Platoons, Ap\n",
    "Ap = np.array([[0, 1, 0],\n",
    "                [1, 1, 1],\n",
    "                [1, 1, 1]])"
   ]
  },
  {
   "cell_type": "code",
   "execution_count": 92,
   "metadata": {},
   "outputs": [
    {
     "name": "stdout",
     "output_type": "stream",
     "text": [
      "[0. 0. 6.]\n"
     ]
    }
   ],
   "source": [
    "from simulator_functions import edge_probabilities\n",
    "\n",
    "total_platoon_edges = edge_probabilities(platoon_initial_state, Mp, Ap, depth=1, number_of_neighbours=[6])\n",
    "print(total_platoon_edges)"
   ]
  },
  {
   "cell_type": "code",
   "execution_count": 93,
   "metadata": {},
   "outputs": [],
   "source": [
    "Pp = np.multiply(Mp, Ap)"
   ]
  },
  {
   "cell_type": "code",
   "execution_count": 94,
   "metadata": {},
   "outputs": [
    {
     "name": "stdout",
     "output_type": "stream",
     "text": [
      "[[0 0 0]\n",
      " [0 0 1]\n",
      " [0 0 1]]\n",
      "[[0 0 0]\n",
      " [0 0 1]\n",
      " [0 0 1]]\n",
      "[[0 0 0]\n",
      " [0 0 0]\n",
      " [0 0 0]]\n"
     ]
    }
   ],
   "source": [
    "print(Pp)\n",
    "print(Mp)\n",
    "print(Pp - Mp)"
   ]
  },
  {
   "cell_type": "code",
   "execution_count": 95,
   "metadata": {},
   "outputs": [
    {
     "name": "stdout",
     "output_type": "stream",
     "text": [
      "6\n"
     ]
    }
   ],
   "source": [
    "#For tree of depth 2 n2\n",
    "\n",
    "platoon_depth1_probability_approvals = np.matmul(platoon_initial_state, Pp)\n",
    "platoon_depth2_probability_approvals = np.matmul(platoon_depth1_probability_approvals, Pp)\n",
    "\n",
    "total_prob_approvals = (2*platoon_depth1_probability_approvals) + (4*platoon_depth2_probability_approvals)\n",
    "total_approvals = np.sum(total_prob_approvals)\n",
    "print(total_approvals)"
   ]
  },
  {
   "cell_type": "code",
   "execution_count": 96,
   "metadata": {},
   "outputs": [
    {
     "name": "stdout",
     "output_type": "stream",
     "text": [
      "[0 0 6]\n"
     ]
    },
    {
     "data": {
      "text/plain": [
       "6"
      ]
     },
     "execution_count": 96,
     "metadata": {},
     "output_type": "execute_result"
    }
   ],
   "source": [
    "#For tree of depth 1, n6\n",
    "print(6*platoon_depth1_probability_approvals)\n",
    "np.sum(6*platoon_depth1_probability_approvals)"
   ]
  }
 ],
 "metadata": {
  "kernelspec": {
   "display_name": "Python 3",
   "language": "python",
   "name": "python3"
  },
  "language_info": {
   "codemirror_mode": {
    "name": "ipython",
    "version": 3
   },
   "file_extension": ".py",
   "mimetype": "text/x-python",
   "name": "python",
   "nbconvert_exporter": "python",
   "pygments_lexer": "ipython3",
   "version": "3.9.15"
  }
 },
 "nbformat": 4,
 "nbformat_minor": 2
}
